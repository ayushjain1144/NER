{
  "nbformat": 4,
  "nbformat_minor": 0,
  "metadata": {
    "colab": {
      "name": "NER_NN",
      "provenance": [],
      "collapsed_sections": [],
      "authorship_tag": "ABX9TyNi4D3dY+TPiAb4vLFIyyC9",
      "include_colab_link": true
    },
    "kernelspec": {
      "name": "python3",
      "display_name": "Python 3"
    }
  },
  "cells": [
    {
      "cell_type": "markdown",
      "metadata": {
        "id": "view-in-github",
        "colab_type": "text"
      },
      "source": [
        "<a href=\"https://colab.research.google.com/github/ayushjain1144/NER/blob/master/NER_NN.ipynb\" target=\"_parent\"><img src=\"https://colab.research.google.com/assets/colab-badge.svg\" alt=\"Open In Colab\"/></a>"
      ]
    },
    {
      "cell_type": "markdown",
      "metadata": {
        "id": "q6eRcJnO4Xyl",
        "colab_type": "text"
      },
      "source": [
        "# Imports"
      ]
    },
    {
      "cell_type": "code",
      "metadata": {
        "id": "GGT8kFRu4VyR",
        "colab_type": "code",
        "colab": {}
      },
      "source": [
        "import numpy as np\n",
        "import sys"
      ],
      "execution_count": 1,
      "outputs": []
    },
    {
      "cell_type": "markdown",
      "metadata": {
        "id": "hYDqojOAmafp",
        "colab_type": "text"
      },
      "source": [
        "# Loading the features and vocabulary"
      ]
    },
    {
      "cell_type": "code",
      "metadata": {
        "id": "dRlPGzpimTlc",
        "colab_type": "code",
        "colab": {
          "base_uri": "https://localhost:8080/",
          "height": 128
        },
        "outputId": "64fb51f9-d822-4c55-baf6-856e555d9f2c"
      },
      "source": [
        "from google.colab import drive\n",
        "drive.mount('/content/gdrive')\n",
        "\n",
        "!ln -s content/gdrive/My\\ Drive/NER /ner_dir"
      ],
      "execution_count": 2,
      "outputs": [
        {
          "output_type": "stream",
          "text": [
            "Go to this URL in a browser: https://accounts.google.com/o/oauth2/auth?client_id=947318989803-6bn6qk8qdgf4n4g3pfee6491hc0brc4i.apps.googleusercontent.com&redirect_uri=urn%3aietf%3awg%3aoauth%3a2.0%3aoob&response_type=code&scope=email%20https%3a%2f%2fwww.googleapis.com%2fauth%2fdocs.test%20https%3a%2f%2fwww.googleapis.com%2fauth%2fdrive%20https%3a%2f%2fwww.googleapis.com%2fauth%2fdrive.photos.readonly%20https%3a%2f%2fwww.googleapis.com%2fauth%2fpeopleapi.readonly\n",
            "\n",
            "Enter your authorization code:\n",
            "··········\n",
            "Mounted at /content/gdrive\n"
          ],
          "name": "stdout"
        }
      ]
    },
    {
      "cell_type": "code",
      "metadata": {
        "id": "FOChUptq2VdK",
        "colab_type": "code",
        "colab": {
          "base_uri": "https://localhost:8080/",
          "height": 54
        },
        "outputId": "a54e9f6d-d9e8-48ea-84a1-b67a4f1650c4"
      },
      "source": [
        "%cd ..\n",
        "%cd /ner_dir\n"
      ],
      "execution_count": 3,
      "outputs": [
        {
          "output_type": "stream",
          "text": [
            "/\n",
            "/content/gdrive/My Drive/NER\n"
          ],
          "name": "stdout"
        }
      ]
    },
    {
      "cell_type": "code",
      "metadata": {
        "id": "PvCu2tfk2nVf",
        "colab_type": "code",
        "colab": {
          "base_uri": "https://localhost:8080/",
          "height": 108
        },
        "outputId": "363a948c-1acc-4c5d-f516-984c476b1898"
      },
      "source": [
        "!ls"
      ],
      "execution_count": 4,
      "outputs": [
        {
          "output_type": "stream",
          "text": [
            "activations.py\t\t  loss.py\t\tREADME.md\n",
            "Conll.ipynb\t\t  NER_NN.ipynb\t\ttest_features.npy\n",
            "dataset\t\t\t  NER_NN_network.ipynb\ttrain_features.npy\n",
            "initial_experiment.ipynb  nn.py\t\t\tval_features.npy\n",
            "initialization.py\t  __pycache__\t\tvocab.npy\n"
          ],
          "name": "stdout"
        }
      ]
    },
    {
      "cell_type": "code",
      "metadata": {
        "id": "Sbtd6U_5-wDW",
        "colab_type": "code",
        "colab": {}
      },
      "source": [
        "import activations\n",
        "import loss\n",
        "import initialization as init_layer"
      ],
      "execution_count": 5,
      "outputs": []
    },
    {
      "cell_type": "code",
      "metadata": {
        "id": "QkgIekd-4RmH",
        "colab_type": "code",
        "colab": {}
      },
      "source": [
        "vocab = np.load('vocab.npy')\n",
        "train_features = np.load('train_features.npy')\n",
        "test_features = np.load('test_features.npy')\n",
        "val_features = np.load('val_features.npy')"
      ],
      "execution_count": 6,
      "outputs": []
    },
    {
      "cell_type": "code",
      "metadata": {
        "id": "N02tcTD9H5cu",
        "colab_type": "code",
        "colab": {
          "base_uri": "https://localhost:8080/",
          "height": 35
        },
        "outputId": "4707a029-95fc-404c-da53-53d77020c2a6"
      },
      "source": [
        "train_features.shape"
      ],
      "execution_count": 7,
      "outputs": [
        {
          "output_type": "execute_result",
          "data": {
            "text/plain": [
              "(204566, 900)"
            ]
          },
          "metadata": {
            "tags": []
          },
          "execution_count": 7
        }
      ]
    },
    {
      "cell_type": "code",
      "metadata": {
        "id": "aEzSQKPHJv7U",
        "colab_type": "code",
        "colab": {}
      },
      "source": [
        "C = 1\n",
        "word_vector_dim = 300\n",
        "num_tags = 10"
      ],
      "execution_count": 8,
      "outputs": []
    },
    {
      "cell_type": "markdown",
      "metadata": {
        "id": "4K1vS8CzG0W0",
        "colab_type": "text"
      },
      "source": [
        "# Neural Netwwork Architecture"
      ]
    },
    {
      "cell_type": "code",
      "metadata": {
        "id": "3fStbOrS4yW_",
        "colab_type": "code",
        "colab": {}
      },
      "source": [
        "nn_architecture = [\n",
        "  {\"layer_size\": 900, \"activation\": \"none\"},\n",
        "  {\"layer_size\": 300, \"activation\": \"relu\"},\n",
        "  {\"layer_size\": 100, \"activation\": \"relu\"},\n",
        "  {\"layer_size\":10, \"activation\": \"softmax\"}\n",
        "]"
      ],
      "execution_count": 9,
      "outputs": []
    },
    {
      "cell_type": "markdown",
      "metadata": {
        "id": "apFzoggrMYW_",
        "colab_type": "text"
      },
      "source": [
        "# Initialize Parameters"
      ]
    },
    {
      "cell_type": "code",
      "metadata": {
        "id": "31FNVIQaL_5g",
        "colab_type": "code",
        "colab": {}
      },
      "source": [
        "def initialize_parameters(nn_architecture, initialization = \"range_initialization\", seed=5):\n",
        "\n",
        "  parameters = {}\n",
        "  num_layers = len(nn_architecture)\n",
        "\n",
        "  for i in range(1, num_layers):\n",
        "\n",
        "    if initialization == \"range_initialization\":\n",
        "      parameters['W' + str(i)] = init_layer.range_initializtion(nn_architecture[i][\"layer_size\"],\n",
        "                                            nn_architecture[i - 1][\"layer_size\"], seed)\n",
        "    else:\n",
        "      parameters['W' + str(i)] = init_layer.random_initializtion(nn_architecture[i][\"layer_size\"],\n",
        "                                            nn_architecture[i - 1][\"layer_size\"], seed)\n",
        "\n",
        "    parameters['b' + str(i)] = np.zeros((nn_architecture[i][\"layer_size\"], 1))\n",
        "\n",
        "  return parameters"
      ],
      "execution_count": 10,
      "outputs": []
    },
    {
      "cell_type": "code",
      "metadata": {
        "id": "Nk0yEPOsggOi",
        "colab_type": "code",
        "colab": {}
      },
      "source": [
        "initialize_parameters(nn_architecture, initialization=\"range_initialization\")"
      ],
      "execution_count": null,
      "outputs": []
    },
    {
      "cell_type": "markdown",
      "metadata": {
        "id": "RojXQmNkcTjY",
        "colab_type": "text"
      },
      "source": [
        "# Forward Propogation"
      ]
    },
    {
      "cell_type": "code",
      "metadata": {
        "id": "kg5s5MaUQKYF",
        "colab_type": "code",
        "colab": {}
      },
      "source": [
        "# Z = W * X + b\n",
        "# Here A is output of previous layer\n",
        "\n",
        "def linear_forward(A_prev, W, b):\n",
        "  return np.dot(W, A_prev) + b\n",
        "\n",
        "# apply activation h:  A = h(X) \n",
        "def apply_activation(A, activation, alpha=0.01):\n",
        "\n",
        "  if activation == \"sigmoid\":\n",
        "    return activations.sigmoid(A)\n",
        "  elif activation == \"tanh\":\n",
        "    return activations.tanh(A)\n",
        "  elif activation == \"relu\":\n",
        "    return activations.relu(A)\n",
        "  elif activation == \"leaky_relu\":\n",
        "    return activations.leaky_relu(A, alpha)\n",
        "  else:\n",
        "    print(f\"ERROR: {activation} activation not supported\")\n",
        "    sys.exit(1)\n",
        "  \n",
        "# driver forward propogation\n",
        "def model_forward(X, parameters, nn_architecture, alpha=0.01):\n",
        "\n",
        "  forward_cache = {}\n",
        "  A = X\n",
        "  num_layers = len(nn_architecture)\n",
        "\n",
        "  for i in range(1, num_layers):\n",
        "    A_prev = A\n",
        "    W = parameters[\"W\" + str(i)]\n",
        "    b = parametes[\"b\" + str(i)]\n",
        "\n",
        "    Z = linear_forward(A_prev, W, b)\n",
        "    A = apply_activation(Z, activation, alpha)\n",
        "\n",
        "    forward_cache['Z' + str(i)] = Z\n",
        "    forward_cache['A' + str(i - 1)] = A\n",
        "\n",
        "  return A, forward_cache  "
      ],
      "execution_count": 12,
      "outputs": []
    },
    {
      "cell_type": "markdown",
      "metadata": {
        "id": "OuiILZ1FMuJA",
        "colab_type": "text"
      },
      "source": [
        "# Loss"
      ]
    },
    {
      "cell_type": "code",
      "metadata": {
        "id": "TaNyla5vMtrI",
        "colab_type": "code",
        "colab": {}
      },
      "source": [
        ""
      ],
      "execution_count": null,
      "outputs": []
    },
    {
      "cell_type": "code",
      "metadata": {
        "id": "VKQVgsCqetdn",
        "colab_type": "code",
        "colab": {}
      },
      "source": [
        ""
      ],
      "execution_count": null,
      "outputs": []
    }
  ]
}