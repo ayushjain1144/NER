{
  "nbformat": 4,
  "nbformat_minor": 0,
  "metadata": {
    "colab": {
      "name": "NER_NN",
      "provenance": [],
      "collapsed_sections": [],
      "authorship_tag": "ABX9TyPafsze8IHIjKlmpWdtz67p",
      "include_colab_link": true
    },
    "kernelspec": {
      "name": "python3",
      "display_name": "Python 3"
    }
  },
  "cells": [
    {
      "cell_type": "markdown",
      "metadata": {
        "id": "view-in-github",
        "colab_type": "text"
      },
      "source": [
        "<a href=\"https://colab.research.google.com/github/ayushjain1144/NER/blob/master/NER_NN.ipynb\" target=\"_parent\"><img src=\"https://colab.research.google.com/assets/colab-badge.svg\" alt=\"Open In Colab\"/></a>"
      ]
    },
    {
      "cell_type": "markdown",
      "metadata": {
        "id": "q6eRcJnO4Xyl",
        "colab_type": "text"
      },
      "source": [
        "# Imports"
      ]
    },
    {
      "cell_type": "code",
      "metadata": {
        "id": "GGT8kFRu4VyR",
        "colab_type": "code",
        "colab": {}
      },
      "source": [
        "import numpy as np\n",
        "import sys"
      ],
      "execution_count": 1,
      "outputs": []
    },
    {
      "cell_type": "markdown",
      "metadata": {
        "id": "hYDqojOAmafp",
        "colab_type": "text"
      },
      "source": [
        "# Loading the features and vocabulary"
      ]
    },
    {
      "cell_type": "code",
      "metadata": {
        "id": "dRlPGzpimTlc",
        "colab_type": "code",
        "colab": {
          "base_uri": "https://localhost:8080/",
          "height": 128
        },
        "outputId": "731cc8c4-3f56-43c7-cec1-6b0b1de3ea0b"
      },
      "source": [
        "from google.colab import drive\n",
        "drive.mount('/content/gdrive')\n",
        "\n",
        "!ln -s content/gdrive/My\\ Drive/NER /ner_dir"
      ],
      "execution_count": 2,
      "outputs": [
        {
          "output_type": "stream",
          "text": [
            "Go to this URL in a browser: https://accounts.google.com/o/oauth2/auth?client_id=947318989803-6bn6qk8qdgf4n4g3pfee6491hc0brc4i.apps.googleusercontent.com&redirect_uri=urn%3aietf%3awg%3aoauth%3a2.0%3aoob&response_type=code&scope=email%20https%3a%2f%2fwww.googleapis.com%2fauth%2fdocs.test%20https%3a%2f%2fwww.googleapis.com%2fauth%2fdrive%20https%3a%2f%2fwww.googleapis.com%2fauth%2fdrive.photos.readonly%20https%3a%2f%2fwww.googleapis.com%2fauth%2fpeopleapi.readonly\n",
            "\n",
            "Enter your authorization code:\n",
            "··········\n",
            "Mounted at /content/gdrive\n"
          ],
          "name": "stdout"
        }
      ]
    },
    {
      "cell_type": "code",
      "metadata": {
        "id": "FOChUptq2VdK",
        "colab_type": "code",
        "colab": {
          "base_uri": "https://localhost:8080/",
          "height": 54
        },
        "outputId": "643f2df1-cbc4-4bcf-b5d0-97aab3601cb6"
      },
      "source": [
        "%cd ..\n",
        "%cd /ner_dir\n"
      ],
      "execution_count": 3,
      "outputs": [
        {
          "output_type": "stream",
          "text": [
            "/\n",
            "/content/gdrive/My Drive/NER\n"
          ],
          "name": "stdout"
        }
      ]
    },
    {
      "cell_type": "code",
      "metadata": {
        "id": "PvCu2tfk2nVf",
        "colab_type": "code",
        "colab": {
          "base_uri": "https://localhost:8080/",
          "height": 108
        },
        "outputId": "fb7463f2-0451-4485-c9db-1935918b11e6"
      },
      "source": [
        "!ls"
      ],
      "execution_count": 4,
      "outputs": [
        {
          "output_type": "stream",
          "text": [
            "activations.py\t\t  loss.py\t\tREADME.md\t    ytest.npy\n",
            "Conll.ipynb\t\t  NER_NN.ipynb\t\ttest_features.npy   ytrain.npy\n",
            "dataset\t\t\t  NER_NN_network.ipynb\ttrain_features.npy  yval.npy\n",
            "initial_experiment.ipynb  nn.py\t\t\tval_features.npy\n",
            "initialization.py\t  __pycache__\t\tvocab.npy\n"
          ],
          "name": "stdout"
        }
      ]
    },
    {
      "cell_type": "code",
      "metadata": {
        "id": "Sbtd6U_5-wDW",
        "colab_type": "code",
        "colab": {}
      },
      "source": [
        "import activations\n",
        "import loss\n",
        "import initialization as init_layer"
      ],
      "execution_count": 5,
      "outputs": []
    },
    {
      "cell_type": "code",
      "metadata": {
        "id": "QkgIekd-4RmH",
        "colab_type": "code",
        "colab": {}
      },
      "source": [
        "vocab = np.load('vocab.npy')\n",
        "train_features = np.load('train_features.npy').T\n",
        "test_features = np.load('test_features.npy').T\n",
        "val_features = np.load('val_features.npy').T\n",
        "y_train = np.load('ytrain.npy').T\n",
        "y_val = np.load('yval.npy').T\n",
        "y_test = np.load('ytest.npy').T"
      ],
      "execution_count": 12,
      "outputs": []
    },
    {
      "cell_type": "code",
      "metadata": {
        "id": "N02tcTD9H5cu",
        "colab_type": "code",
        "colab": {
          "base_uri": "https://localhost:8080/",
          "height": 145
        },
        "outputId": "827d0509-91a6-4031-a391-94376cf59c08"
      },
      "source": [
        "print(train_features.shape)\n",
        "print(vocab.shape)\n",
        "print(test_features.shape)\n",
        "print(val_features.shape)\n",
        "print(y_train.shape)\n",
        "print(y_test.shape)\n",
        "print(y_val.shape)"
      ],
      "execution_count": 13,
      "outputs": [
        {
          "output_type": "stream",
          "text": [
            "(900, 204566)\n",
            "(26872, 300)\n",
            "(900, 46665)\n",
            "(900, 51577)\n",
            "(10, 204566)\n",
            "(10, 46665)\n",
            "(10, 51577)\n"
          ],
          "name": "stdout"
        }
      ]
    },
    {
      "cell_type": "code",
      "metadata": {
        "id": "ftzW0XaYlGxb",
        "colab_type": "code",
        "colab": {
          "base_uri": "https://localhost:8080/",
          "height": 254
        },
        "outputId": "36d21e79-59c0-49e7-bba1-b5464f44a363"
      },
      "source": [
        "train_features[:10]"
      ],
      "execution_count": 14,
      "outputs": [
        {
          "output_type": "execute_result",
          "data": {
            "text/plain": [
              "array([[ 1.        , -0.92605459,  0.00982666, ...,  1.38121068,\n",
              "         0.05078125,  1.46252757],\n",
              "       [ 0.        , -1.13792351,  0.2265625 , ...,  0.8632994 ,\n",
              "        -0.09326172, -0.07399186],\n",
              "       [ 0.        , -0.7880129 ,  0.28125   , ...,  0.76144395,\n",
              "         0.06494141,  0.03143081],\n",
              "       ...,\n",
              "       [ 0.        , -0.43820235, -0.03540039, ...,  0.7176954 ,\n",
              "        -0.08154297,  0.11263644],\n",
              "       [ 0.        , -0.95179252,  0.14746094, ...,  0.69231712,\n",
              "         0.13085938,  0.80112245],\n",
              "       [ 0.        , -1.45894089,  0.12890625, ..., -1.61798501,\n",
              "         0.12597656, -0.11506672]])"
            ]
          },
          "metadata": {
            "tags": []
          },
          "execution_count": 14
        }
      ]
    },
    {
      "cell_type": "code",
      "metadata": {
        "id": "M91iJFgGrBwk",
        "colab_type": "code",
        "colab": {
          "base_uri": "https://localhost:8080/",
          "height": 145
        },
        "outputId": "b187923c-95a5-4512-aeff-cce726e77ae4"
      },
      "source": [
        "y_train[:10]"
      ],
      "execution_count": 15,
      "outputs": [
        {
          "output_type": "execute_result",
          "data": {
            "text/plain": [
              "array([[0., 0., 0., ..., 0., 0., 0.],\n",
              "       [0., 1., 0., ..., 1., 0., 1.],\n",
              "       [0., 0., 0., ..., 0., 0., 0.],\n",
              "       ...,\n",
              "       [0., 0., 0., ..., 0., 0., 0.],\n",
              "       [0., 0., 1., ..., 0., 0., 0.],\n",
              "       [0., 0., 0., ..., 0., 0., 0.]], dtype=float32)"
            ]
          },
          "metadata": {
            "tags": []
          },
          "execution_count": 15
        }
      ]
    },
    {
      "cell_type": "code",
      "metadata": {
        "id": "aEzSQKPHJv7U",
        "colab_type": "code",
        "colab": {}
      },
      "source": [
        "C = 1\n",
        "word_vector_dim = 300\n",
        "num_tags = 10"
      ],
      "execution_count": 16,
      "outputs": []
    },
    {
      "cell_type": "markdown",
      "metadata": {
        "id": "4K1vS8CzG0W0",
        "colab_type": "text"
      },
      "source": [
        "# Neural Netwwork Architecture"
      ]
    },
    {
      "cell_type": "code",
      "metadata": {
        "id": "3fStbOrS4yW_",
        "colab_type": "code",
        "colab": {}
      },
      "source": [
        "nn_architecture = [\n",
        "  {\"layer_size\": 900, \"activation\": \"none\"},\n",
        "  {\"layer_size\": 300, \"activation\": \"relu\"},\n",
        "  {\"layer_size\": 100, \"activation\": \"relu\"},\n",
        "  {\"layer_size\":10, \"activation\": \"none\"}\n",
        "]"
      ],
      "execution_count": 39,
      "outputs": []
    },
    {
      "cell_type": "code",
      "metadata": {
        "id": "zHYrA8lQmW-f",
        "colab_type": "code",
        "colab": {
          "base_uri": "https://localhost:8080/",
          "height": 35
        },
        "outputId": "dfa568f2-8667-4319-eeeb-8afb48990e52"
      },
      "source": [
        "nn_architecture[1]['activation']"
      ],
      "execution_count": 18,
      "outputs": [
        {
          "output_type": "execute_result",
          "data": {
            "text/plain": [
              "'relu'"
            ]
          },
          "metadata": {
            "tags": []
          },
          "execution_count": 18
        }
      ]
    },
    {
      "cell_type": "markdown",
      "metadata": {
        "id": "apFzoggrMYW_",
        "colab_type": "text"
      },
      "source": [
        "# Initialize Parameters"
      ]
    },
    {
      "cell_type": "code",
      "metadata": {
        "id": "31FNVIQaL_5g",
        "colab_type": "code",
        "colab": {}
      },
      "source": [
        "def initialize_parameters(nn_architecture, initialization = \"range_initialization\", seed=5):\n",
        "\n",
        "  parameters = {}\n",
        "  num_layers = len(nn_architecture)\n",
        "\n",
        "  for i in range(1, num_layers):\n",
        "\n",
        "    if initialization == \"range_initialization\":\n",
        "      parameters['W' + str(i)] = init_layer.range_initializtion(nn_architecture[i][\"layer_size\"],\n",
        "                                            nn_architecture[i - 1][\"layer_size\"], seed)\n",
        "    else:\n",
        "      parameters['W' + str(i)] = init_layer.random_initializtion(nn_architecture[i][\"layer_size\"],\n",
        "                                            nn_architecture[i - 1][\"layer_size\"], seed)\n",
        "\n",
        "    parameters['b' + str(i)] = np.zeros((nn_architecture[i][\"layer_size\"], 1))\n",
        "\n",
        "  return parameters"
      ],
      "execution_count": 19,
      "outputs": []
    },
    {
      "cell_type": "code",
      "metadata": {
        "id": "Nk0yEPOsggOi",
        "colab_type": "code",
        "colab": {}
      },
      "source": [
        "initialize_parameters(nn_architecture, initialization=\"range_initialization\")"
      ],
      "execution_count": null,
      "outputs": []
    },
    {
      "cell_type": "markdown",
      "metadata": {
        "id": "RojXQmNkcTjY",
        "colab_type": "text"
      },
      "source": [
        "# Forward Propogation"
      ]
    },
    {
      "cell_type": "code",
      "metadata": {
        "id": "kg5s5MaUQKYF",
        "colab_type": "code",
        "colab": {}
      },
      "source": [
        "# Z = W * X + b\n",
        "# Here A is output of previous layer\n",
        "\n",
        "def linear_forward(A_prev, W, b):\n",
        "  return np.dot(W, A_prev) + b\n",
        "\n",
        "# apply activation h:  A = h(X) \n",
        "def apply_activation(A, activation, alpha=0.01):\n",
        "\n",
        "  if activation == \"sigmoid\":\n",
        "    return activations.sigmoid(A)\n",
        "  elif activation == \"tanh\":\n",
        "    return activations.tanh(A)\n",
        "  elif activation == \"relu\":\n",
        "    return activations.relu(A)\n",
        "  elif activation == \"leaky_relu\":\n",
        "    return activations.leaky_relu(A, alpha)\n",
        "  elif activation == 'none':\n",
        "    return A;\n",
        "  else:\n",
        "    print(f\"ERROR: {activation} activation not supported\")\n",
        "    sys.exit(1)\n",
        "  \n",
        "# driver forward propogation\n",
        "def model_forward(X, parameters, nn_architecture, alpha=0.01):\n",
        "\n",
        "  forward_cache = {}\n",
        "  A = X\n",
        "  num_layers = len(nn_architecture)\n",
        "\n",
        "  for i in range(1, num_layers):\n",
        "    A_prev = A\n",
        "    W = parameters[\"W\" + str(i)]\n",
        "    b = parameters[\"b\" + str(i)]\n",
        "\n",
        "    Z = linear_forward(A_prev, W, b)\n",
        "    activation = nn_architecture[i]['activation']\n",
        "    A = apply_activation(Z, activation, alpha)\n",
        "\n",
        "    forward_cache['Z' + str(i)] = Z\n",
        "    forward_cache['A' + str(i - 1)] = A\n",
        "\n",
        "  return A, forward_cache  "
      ],
      "execution_count": 35,
      "outputs": []
    },
    {
      "cell_type": "markdown",
      "metadata": {
        "id": "OuiILZ1FMuJA",
        "colab_type": "text"
      },
      "source": [
        "# Backpropogation "
      ]
    },
    {
      "cell_type": "code",
      "metadata": {
        "id": "TaNyla5vMtrI",
        "colab_type": "code",
        "colab": {}
      },
      "source": [
        "def linear_backward(dz, cache):\n",
        "  A_prev, W, b = cache\n",
        "  m = A_prev.shape[1]\n",
        "\n",
        "  dw = (1 / m) * np.dot(dz, A_prev.T)\n",
        "  db = (1 / m) * np.sum(dZ, axis=1, keepims=True)\n",
        "  dA_prev = np.dot(W.T, dZ)\n",
        "\n",
        "  assert dA_prev.shape == A_prev.shape\n",
        "  assert dW.shape == W.shape\n",
        "  assert db.shape == b.shape\n",
        "\n",
        "  return dA_prev, dw, db      "
      ],
      "execution_count": 22,
      "outputs": []
    },
    {
      "cell_type": "code",
      "metadata": {
        "id": "LSHajBeXr9fQ",
        "colab_type": "code",
        "colab": {}
      },
      "source": [
        "def apply_activation_backward(dA, cache, activation_fn):\n",
        "  linear_cache, activation_cache = cache\n",
        "\n",
        "  if activation_fn == \"sigmoid\":\n",
        "    dZ = activations.sigmoid_backward(dA, activation_cache)\n",
        "    dA_prev, dw, db = linear_backward(dZ, linear_cache)\n",
        "\n",
        "  elif activation_fn == \"tanh\":\n",
        "    dZ = activations.sigmoid_backward(dA, activation_cache)\n",
        "    dA_prev, dw, db = linear_backward(dZ, linear_cache)\n",
        "\n",
        "  elif activation_fn == \"relu\":\n",
        "    dZ = activations.sigmoid_backward(dA, activation_cache)\n",
        "    dA_prev, dw, db = linear_backward(dZ, linear_cache)\n",
        "\n",
        "  elif activation_fn == \"leaky_relu\":\n",
        "    dZ = activations.sigmoid_backward(dA, activation_cache)\n",
        "    dA_prev, dw, db = linear_backward(dZ, linear_cache)\n",
        "  \n",
        "  elif activation_fn == \"none\":\n",
        "    dZ = dA\n",
        "    dA_prev, dw, db = linear_backward(dZ, linear_cache)\n",
        "  \n",
        "  else:\n",
        "    print(\"Activation not available\")\n",
        "    sys.exit(1)\n",
        "\n",
        "  return dA_prev, dw, db\n",
        "\n",
        "  \n"
      ],
      "execution_count": 23,
      "outputs": []
    },
    {
      "cell_type": "code",
      "metadata": {
        "id": "VKQVgsCqetdn",
        "colab_type": "code",
        "colab": {}
      },
      "source": [
        "def model_backward(AL, y, caches, nn_architecture):\n",
        "   \n",
        "  y = y.reshape(AL.shape)\n",
        "  L = len(caches)\n",
        "  grads = {}\n",
        "\n",
        "  dAL = np.divide(AL - y, np.multiply(AL, 1 - AL))\n",
        "  print(L)\n",
        "  print(caches)\n",
        "  grads[\"dA\" + str(L - 1)], grads[\"dW\" + str(L)], grads[\"db\" + str(L)] = apply_activation_backward(dAL, caches[L-1], nn_architecture[L-1]['activation'])\n",
        "\n",
        "  for l in range(L - 1, 0, -1):\n",
        "    current_cache = caches[l - 1]\n",
        "    grads[\"dA\" + str(l - 1)], grads[\"dW\" + str(l)],  \\\n",
        "        grads[\"db\" + str(l)] = apply_activation_backward(\n",
        "            grads[\"dA\" + str(l)], current_cache, \n",
        "            nn_architecture[l]['activation']\n",
        "        )\n",
        "  return grads"
      ],
      "execution_count": 48,
      "outputs": []
    },
    {
      "cell_type": "code",
      "metadata": {
        "id": "vIGxsD-84Nhz",
        "colab_type": "code",
        "colab": {}
      },
      "source": [
        "def update_parameters(parameters, grads, lr):\n",
        "\n",
        "  L = len(parameters)\n",
        "\n",
        "  for l in range(1, L + 1):\n",
        "    parameters[\"W\" + str(l)] = parameters[\"W\" + str(l)] - \\\n",
        "            lr * grads[\"dW\" + str(l)]\n",
        "    parametets[\"b\" + str(l)] = parameters[\"b\" + str(l)] - \\\n",
        "            lr * grads[\"db\" + str(l)]\n",
        "  return parameters"
      ],
      "execution_count": 49,
      "outputs": []
    },
    {
      "cell_type": "code",
      "metadata": {
        "id": "8Sl_Wp-H5otj",
        "colab_type": "code",
        "colab": {}
      },
      "source": [
        "def model(X, y, nn_architecture, initialization='range_initialisation', lr=0.01, num_iterations=2000, print_cost=True):\n",
        "\n",
        "  np.random.seed(1)\n",
        "\n",
        "  parameters = initialize_parameters(nn_architecture, initialization)\n",
        "\n",
        "  cost_list = []\n",
        "\n",
        "  #iterate over iterations\n",
        "\n",
        "  for i in range(num_iterations):\n",
        "\n",
        "    #forward step\n",
        "    AL, caches = model_forward(X, parameters, nn_architecture)\n",
        "\n",
        "    cost = loss.cross_entropy_loss(AL, y)\n",
        "\n",
        "    grads = model_backward(AL, y, caches, nn_architecture)\n",
        "\n",
        "    parameters = update_parameters(parameters, grads, lr)\n",
        "\n",
        "    if (i + 1) % 100 == 0 and print_cost:\n",
        "      print(f\"The cost after {i + 1} iterations is: {cost: .4f}\")\n",
        "\n",
        "    if i % 100 == 0:\n",
        "      cost_list.append(cost)\n",
        "\n",
        "    #plotting cost curve\n",
        "\n",
        "    plt.figure(figsize=(10, 6))\n",
        "    plt.plot(cost_list)\n",
        "    plt.xlabel(\"Iterations (per hundreds)\")\n",
        "    plt.ylabel(\"Loss\")\n",
        "    plt.title(f\"Loss curve for the learning rate = {lr}\")\n",
        "\n",
        "    return parameters"
      ],
      "execution_count": 50,
      "outputs": []
    },
    {
      "cell_type": "code",
      "metadata": {
        "id": "xM0ETWnl0-yc",
        "colab_type": "code",
        "colab": {}
      },
      "source": [
        "def accuracy(X, parameters, y, nn_architecture):\n",
        "  probs, caches = model_forward(X, parameters, nn_architecture)\n",
        "  labels = (probs >= 0.5) * 1\n",
        "  accuracy = np.mean(labels == y) * 100\n",
        "\n",
        "  return f\"The accuracy rate is {accuracy: .2f}%.\""
      ],
      "execution_count": 51,
      "outputs": []
    },
    {
      "cell_type": "code",
      "metadata": {
        "id": "p5mkOLeD1r0X",
        "colab_type": "code",
        "colab": {
          "base_uri": "https://localhost:8080/",
          "height": 1000
        },
        "outputId": "6f002292-9bb9-47a1-d8ea-f3ab26bea865"
      },
      "source": [
        "params = model(train_features, y_train, nn_architecture, initialization='range_initialization', lr=0.01, num_iterations=3000, print_cost=True)\n",
        "\n",
        "accuracy(X_test, params, y_test, nn_architecture)\n"
      ],
      "execution_count": 52,
      "outputs": [
        {
          "output_type": "stream",
          "text": [
            "6\n",
            "{'Z1': array([[ 0.5297159 , -0.66358821, -0.81688732, ..., -0.71350158,\n",
            "        -0.36861749, -0.37151481],\n",
            "       [ 0.14650086,  1.25460723, -0.84837228, ..., -0.7358055 ,\n",
            "         0.49316129, -0.50739974],\n",
            "       [-0.86395663,  2.02697808,  0.25557028, ...,  0.44482093,\n",
            "        -1.20023437, -0.46970608],\n",
            "       ...,\n",
            "       [-0.79716557,  0.84036755, -1.02397446, ...,  0.39510788,\n",
            "        -0.57041576,  0.82304681],\n",
            "       [-0.02517139, -0.04335126, -0.35848163, ...,  1.7170243 ,\n",
            "        -1.31911873, -0.39130926],\n",
            "       [-0.00897232, -1.60298961, -0.0200274 , ...,  0.25629046,\n",
            "         1.71444287,  0.97357491]]), 'A0': array([[0.5297159 , 0.        , 0.        , ..., 0.        , 0.        ,\n",
            "        0.        ],\n",
            "       [0.14650086, 1.25460723, 0.        , ..., 0.        , 0.49316129,\n",
            "        0.        ],\n",
            "       [0.        , 2.02697808, 0.25557028, ..., 0.44482093, 0.        ,\n",
            "        0.        ],\n",
            "       ...,\n",
            "       [0.        , 0.84036755, 0.        , ..., 0.39510788, 0.        ,\n",
            "        0.82304681],\n",
            "       [0.        , 0.        , 0.        , ..., 1.7170243 , 0.        ,\n",
            "        0.        ],\n",
            "       [0.        , 0.        , 0.        , ..., 0.25629046, 1.71444287,\n",
            "        0.97357491]]), 'Z2': array([[-1.23150901, -0.65181887, -0.33915588, ..., -1.26325292,\n",
            "         0.91846942,  0.02876005],\n",
            "       [ 0.92534619,  0.67108804, -0.72171968, ...,  0.5743377 ,\n",
            "         0.33686251, -1.04946695],\n",
            "       [-0.29150956,  0.32712896,  0.66515668, ...,  0.81112645,\n",
            "         0.84394112, -0.13840947],\n",
            "       ...,\n",
            "       [ 0.47495286,  0.09312404, -0.73017624, ..., -0.38695025,\n",
            "         0.07188071,  0.13742092],\n",
            "       [ 1.40931326,  1.72383762,  0.74977162, ...,  2.80167085,\n",
            "         1.15704456,  0.26040309],\n",
            "       [-0.37394979, -0.10938218, -0.27516213, ..., -0.12763236,\n",
            "        -0.33075429, -0.32348404]]), 'A1': array([[0.        , 0.        , 0.        , ..., 0.        , 0.91846942,\n",
            "        0.02876005],\n",
            "       [0.92534619, 0.67108804, 0.        , ..., 0.5743377 , 0.33686251,\n",
            "        0.        ],\n",
            "       [0.        , 0.32712896, 0.66515668, ..., 0.81112645, 0.84394112,\n",
            "        0.        ],\n",
            "       ...,\n",
            "       [0.47495286, 0.09312404, 0.        , ..., 0.        , 0.07188071,\n",
            "        0.13742092],\n",
            "       [1.40931326, 1.72383762, 0.74977162, ..., 2.80167085, 1.15704456,\n",
            "        0.26040309],\n",
            "       [0.        , 0.        , 0.        , ..., 0.        , 0.        ,\n",
            "        0.        ]]), 'Z3': array([[-0.2288709 ,  1.21868353,  0.05207081, ...,  1.20743392,\n",
            "        -0.54183598,  0.15459504],\n",
            "       [ 0.74029097, -0.11604988, -0.59978883, ..., -1.31648028,\n",
            "         0.81595789, -0.13971367],\n",
            "       [ 0.18655382,  0.64385394, -0.39707409, ...,  0.29766372,\n",
            "         0.30208566, -0.05293965],\n",
            "       ...,\n",
            "       [-0.88147442, -1.83197118, -0.19535462, ..., -1.19576331,\n",
            "        -1.26067204, -0.42231219],\n",
            "       [-0.89439533,  0.10344346,  0.33339195, ..., -0.19560013,\n",
            "        -0.39884871,  0.0952982 ],\n",
            "       [-0.26864093,  0.4492226 ,  0.20797978, ..., -0.41947374,\n",
            "        -0.84938644, -0.79912847]]), 'A2': array([[-0.2288709 ,  1.21868353,  0.05207081, ...,  1.20743392,\n",
            "        -0.54183598,  0.15459504],\n",
            "       [ 0.74029097, -0.11604988, -0.59978883, ..., -1.31648028,\n",
            "         0.81595789, -0.13971367],\n",
            "       [ 0.18655382,  0.64385394, -0.39707409, ...,  0.29766372,\n",
            "         0.30208566, -0.05293965],\n",
            "       ...,\n",
            "       [-0.88147442, -1.83197118, -0.19535462, ..., -1.19576331,\n",
            "        -1.26067204, -0.42231219],\n",
            "       [-0.89439533,  0.10344346,  0.33339195, ..., -0.19560013,\n",
            "        -0.39884871,  0.0952982 ],\n",
            "       [-0.26864093,  0.4492226 ,  0.20797978, ..., -0.41947374,\n",
            "        -0.84938644, -0.79912847]])}\n"
          ],
          "name": "stdout"
        },
        {
          "output_type": "error",
          "ename": "KeyError",
          "evalue": "ignored",
          "traceback": [
            "\u001b[0;31m---------------------------------------------------------------------------\u001b[0m",
            "\u001b[0;31mKeyError\u001b[0m                                  Traceback (most recent call last)",
            "\u001b[0;32m<ipython-input-52-747ca41777d8>\u001b[0m in \u001b[0;36m<module>\u001b[0;34m()\u001b[0m\n\u001b[0;32m----> 1\u001b[0;31m \u001b[0mparams\u001b[0m \u001b[0;34m=\u001b[0m \u001b[0mmodel\u001b[0m\u001b[0;34m(\u001b[0m\u001b[0mtrain_features\u001b[0m\u001b[0;34m,\u001b[0m \u001b[0my_train\u001b[0m\u001b[0;34m,\u001b[0m \u001b[0mnn_architecture\u001b[0m\u001b[0;34m,\u001b[0m \u001b[0minitialization\u001b[0m\u001b[0;34m=\u001b[0m\u001b[0;34m'range_initialization'\u001b[0m\u001b[0;34m,\u001b[0m \u001b[0mlr\u001b[0m\u001b[0;34m=\u001b[0m\u001b[0;36m0.01\u001b[0m\u001b[0;34m,\u001b[0m \u001b[0mnum_iterations\u001b[0m\u001b[0;34m=\u001b[0m\u001b[0;36m3000\u001b[0m\u001b[0;34m,\u001b[0m \u001b[0mprint_cost\u001b[0m\u001b[0;34m=\u001b[0m\u001b[0;32mTrue\u001b[0m\u001b[0;34m)\u001b[0m\u001b[0;34m\u001b[0m\u001b[0;34m\u001b[0m\u001b[0m\n\u001b[0m\u001b[1;32m      2\u001b[0m \u001b[0;34m\u001b[0m\u001b[0m\n\u001b[1;32m      3\u001b[0m \u001b[0maccuracy\u001b[0m\u001b[0;34m(\u001b[0m\u001b[0mX_test\u001b[0m\u001b[0;34m,\u001b[0m \u001b[0mparams\u001b[0m\u001b[0;34m,\u001b[0m \u001b[0my_test\u001b[0m\u001b[0;34m,\u001b[0m \u001b[0mnn_architecture\u001b[0m\u001b[0;34m)\u001b[0m\u001b[0;34m\u001b[0m\u001b[0;34m\u001b[0m\u001b[0m\n",
            "\u001b[0;32m<ipython-input-50-ecd32d12092d>\u001b[0m in \u001b[0;36mmodel\u001b[0;34m(X, y, nn_architecture, initialization, lr, num_iterations, print_cost)\u001b[0m\n\u001b[1;32m     16\u001b[0m     \u001b[0mcost\u001b[0m \u001b[0;34m=\u001b[0m \u001b[0mloss\u001b[0m\u001b[0;34m.\u001b[0m\u001b[0mcross_entropy_loss\u001b[0m\u001b[0;34m(\u001b[0m\u001b[0mAL\u001b[0m\u001b[0;34m,\u001b[0m \u001b[0my\u001b[0m\u001b[0;34m)\u001b[0m\u001b[0;34m\u001b[0m\u001b[0;34m\u001b[0m\u001b[0m\n\u001b[1;32m     17\u001b[0m \u001b[0;34m\u001b[0m\u001b[0m\n\u001b[0;32m---> 18\u001b[0;31m     \u001b[0mgrads\u001b[0m \u001b[0;34m=\u001b[0m \u001b[0mmodel_backward\u001b[0m\u001b[0;34m(\u001b[0m\u001b[0mAL\u001b[0m\u001b[0;34m,\u001b[0m \u001b[0my\u001b[0m\u001b[0;34m,\u001b[0m \u001b[0mcaches\u001b[0m\u001b[0;34m,\u001b[0m \u001b[0mnn_architecture\u001b[0m\u001b[0;34m)\u001b[0m\u001b[0;34m\u001b[0m\u001b[0;34m\u001b[0m\u001b[0m\n\u001b[0m\u001b[1;32m     19\u001b[0m \u001b[0;34m\u001b[0m\u001b[0m\n\u001b[1;32m     20\u001b[0m     \u001b[0mparameters\u001b[0m \u001b[0;34m=\u001b[0m \u001b[0mupdate_parameters\u001b[0m\u001b[0;34m(\u001b[0m\u001b[0mparameters\u001b[0m\u001b[0;34m,\u001b[0m \u001b[0mgrads\u001b[0m\u001b[0;34m,\u001b[0m \u001b[0mlr\u001b[0m\u001b[0;34m)\u001b[0m\u001b[0;34m\u001b[0m\u001b[0;34m\u001b[0m\u001b[0m\n",
            "\u001b[0;32m<ipython-input-48-e95fb0bbe601>\u001b[0m in \u001b[0;36mmodel_backward\u001b[0;34m(AL, y, caches, nn_architecture)\u001b[0m\n\u001b[1;32m      8\u001b[0m   \u001b[0mprint\u001b[0m\u001b[0;34m(\u001b[0m\u001b[0mL\u001b[0m\u001b[0;34m)\u001b[0m\u001b[0;34m\u001b[0m\u001b[0;34m\u001b[0m\u001b[0m\n\u001b[1;32m      9\u001b[0m   \u001b[0mprint\u001b[0m\u001b[0;34m(\u001b[0m\u001b[0mcaches\u001b[0m\u001b[0;34m)\u001b[0m\u001b[0;34m\u001b[0m\u001b[0;34m\u001b[0m\u001b[0m\n\u001b[0;32m---> 10\u001b[0;31m   \u001b[0mgrads\u001b[0m\u001b[0;34m[\u001b[0m\u001b[0;34m\"dA\"\u001b[0m \u001b[0;34m+\u001b[0m \u001b[0mstr\u001b[0m\u001b[0;34m(\u001b[0m\u001b[0mL\u001b[0m \u001b[0;34m-\u001b[0m \u001b[0;36m1\u001b[0m\u001b[0;34m)\u001b[0m\u001b[0;34m]\u001b[0m\u001b[0;34m,\u001b[0m \u001b[0mgrads\u001b[0m\u001b[0;34m[\u001b[0m\u001b[0;34m\"dW\"\u001b[0m \u001b[0;34m+\u001b[0m \u001b[0mstr\u001b[0m\u001b[0;34m(\u001b[0m\u001b[0mL\u001b[0m\u001b[0;34m)\u001b[0m\u001b[0;34m]\u001b[0m\u001b[0;34m,\u001b[0m \u001b[0mgrads\u001b[0m\u001b[0;34m[\u001b[0m\u001b[0;34m\"db\"\u001b[0m \u001b[0;34m+\u001b[0m \u001b[0mstr\u001b[0m\u001b[0;34m(\u001b[0m\u001b[0mL\u001b[0m\u001b[0;34m)\u001b[0m\u001b[0;34m]\u001b[0m \u001b[0;34m=\u001b[0m \u001b[0mapply_activation_backward\u001b[0m\u001b[0;34m(\u001b[0m\u001b[0mdAL\u001b[0m\u001b[0;34m,\u001b[0m \u001b[0mcaches\u001b[0m\u001b[0;34m[\u001b[0m\u001b[0mL\u001b[0m\u001b[0;34m-\u001b[0m\u001b[0;36m1\u001b[0m\u001b[0;34m]\u001b[0m\u001b[0;34m,\u001b[0m \u001b[0mnn_architecture\u001b[0m\u001b[0;34m[\u001b[0m\u001b[0mL\u001b[0m\u001b[0;34m-\u001b[0m\u001b[0;36m1\u001b[0m\u001b[0;34m]\u001b[0m\u001b[0;34m[\u001b[0m\u001b[0;34m'activation'\u001b[0m\u001b[0;34m]\u001b[0m\u001b[0;34m)\u001b[0m\u001b[0;34m\u001b[0m\u001b[0;34m\u001b[0m\u001b[0m\n\u001b[0m\u001b[1;32m     11\u001b[0m \u001b[0;34m\u001b[0m\u001b[0m\n\u001b[1;32m     12\u001b[0m   \u001b[0;32mfor\u001b[0m \u001b[0ml\u001b[0m \u001b[0;32min\u001b[0m \u001b[0mrange\u001b[0m\u001b[0;34m(\u001b[0m\u001b[0mL\u001b[0m \u001b[0;34m-\u001b[0m \u001b[0;36m1\u001b[0m\u001b[0;34m,\u001b[0m \u001b[0;36m0\u001b[0m\u001b[0;34m,\u001b[0m \u001b[0;34m-\u001b[0m\u001b[0;36m1\u001b[0m\u001b[0;34m)\u001b[0m\u001b[0;34m:\u001b[0m\u001b[0;34m\u001b[0m\u001b[0;34m\u001b[0m\u001b[0m\n",
            "\u001b[0;31mKeyError\u001b[0m: 5"
          ]
        }
      ]
    },
    {
      "cell_type": "code",
      "metadata": {
        "id": "k2Y6qD9v2sSJ",
        "colab_type": "code",
        "colab": {}
      },
      "source": [
        ""
      ],
      "execution_count": null,
      "outputs": []
    }
  ]
}