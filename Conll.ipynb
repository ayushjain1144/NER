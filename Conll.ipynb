{
  "nbformat": 4,
  "nbformat_minor": 0,
  "metadata": {
    "colab": {
      "name": "Conll.ipynb",
      "provenance": [],
      "toc_visible": true,
      "authorship_tag": "ABX9TyM/ejBUOHvfUw1wW4pYyMG1"
    },
    "kernelspec": {
      "name": "python3",
      "display_name": "Python 3"
    }
  },
  "cells": [
    {
      "cell_type": "code",
      "metadata": {
        "id": "bcnW6tZ9NcxR",
        "colab_type": "code",
        "colab": {}
      },
      "source": [
        "import numpy as np\n",
        "import pandas as pd\n",
        "from tqdm import tqdm, tnrange\n",
        "\n",
        "\n",
        "import matplotlib.pyplot as plt\n",
        "%matplotlib inline"
      ],
      "execution_count": 0,
      "outputs": []
    },
    {
      "cell_type": "code",
      "metadata": {
        "id": "3NmeeldkNqYp",
        "colab_type": "code",
        "colab": {}
      },
      "source": [
        "from collections import Counter\n",
        "import gensim.models.word2vec as word2vec\n",
        "import copy\n",
        "import os"
      ],
      "execution_count": 0,
      "outputs": []
    },
    {
      "cell_type": "markdown",
      "metadata": {
        "id": "hv4nKMQnTClV",
        "colab_type": "text"
      },
      "source": [
        "# Loading Data"
      ]
    },
    {
      "cell_type": "code",
      "metadata": {
        "id": "vNka7S4aS5n3",
        "colab_type": "code",
        "colab": {
          "base_uri": "https://localhost:8080/",
          "height": 51
        },
        "outputId": "581cff07-3573-42e2-89c2-62af3876c7cc"
      },
      "source": [
        "!pwd\n",
        "!ls\n"
      ],
      "execution_count": 10,
      "outputs": [
        {
          "output_type": "stream",
          "text": [
            "/media/ayushjain1144/New Linux/NER\n",
            "activations.py\tdataset  file.json  initial_experiment.ipynb  README.md\n"
          ],
          "name": "stdout"
        }
      ]
    },
    {
      "cell_type": "code",
      "metadata": {
        "id": "ko7FngSbUzpo",
        "colab_type": "code",
        "colab": {}
      },
      "source": [
        "dataset_base_dir = './dataset/'\n",
        "train_data_file = os.path.join(dataset_base_dir, 'train.txt')\n",
        "val_data_file = os.path.join(dataset_base_dir, 'valid.txt')\n",
        "test_data_file = os.path.join(dataset_base_dir, 'test.txt')\n",
        "\n",
        "train_data = open(train_data_file, 'r')\n",
        "test_data = open(test_data_file, 'r').read().upper()\n",
        "val_data = open(val_data_file, 'r').read().upper()"
      ],
      "execution_count": 0,
      "outputs": []
    },
    {
      "cell_type": "code",
      "metadata": {
        "id": "gIFbfG5WViBq",
        "colab_type": "code",
        "colab": {
          "base_uri": "https://localhost:8080/",
          "height": 357
        },
        "outputId": "1c18ed9e-35b2-4233-c8f3-b50af32caed9"
      },
      "source": [
        "!head -20 dataset/train.txt"
      ],
      "execution_count": 39,
      "outputs": [
        {
          "output_type": "stream",
          "text": [
            "-DOCSTART- -X- -X- O\r\n",
            "\r\n",
            "EU NNP B-NP B-ORG\r\n",
            "rejects VBZ B-VP O\r\n",
            "German JJ B-NP B-MISC\r\n",
            "call NN I-NP O\r\n",
            "to TO B-VP O\r\n",
            "boycott VB I-VP O\r\n",
            "British JJ B-NP B-MISC\r\n",
            "lamb NN I-NP O\r\n",
            ". . O O\r\n",
            "\r\n",
            "Peter NNP B-NP B-PER\r\n",
            "Blackburn NNP I-NP I-PER\r\n",
            "\r\n",
            "BRUSSELS NNP B-NP B-LOC\r\n",
            "1996-08-22 CD I-NP O\r\n",
            "\r\n",
            "The DT B-NP O\r\n",
            "European NNP I-NP B-ORG\r\n"
          ],
          "name": "stdout"
        }
      ]
    },
    {
      "cell_type": "code",
      "metadata": {
        "id": "VO8HVgOXV4Sr",
        "colab_type": "code",
        "colab": {
          "base_uri": "https://localhost:8080/",
          "height": 357
        },
        "outputId": "54a5b3ea-be91-4e13-c4f0-f02d66b434ce"
      },
      "source": [
        "!head -20 dataset/test.txt"
      ],
      "execution_count": 40,
      "outputs": [
        {
          "output_type": "stream",
          "text": [
            "-DOCSTART- -X- -X- O\r\n",
            "\r\n",
            "SOCCER NN B-NP O\r\n",
            "- : O O\r\n",
            "JAPAN NNP B-NP B-LOC\r\n",
            "GET VB B-VP O\r\n",
            "LUCKY NNP B-NP O\r\n",
            "WIN NNP I-NP O\r\n",
            ", , O O\r\n",
            "CHINA NNP B-NP B-PER\r\n",
            "IN IN B-PP O\r\n",
            "SURPRISE DT B-NP O\r\n",
            "DEFEAT NN I-NP O\r\n",
            ". . O O\r\n",
            "\r\n",
            "Nadim NNP B-NP B-PER\r\n",
            "Ladki NNP I-NP I-PER\r\n",
            "\r\n",
            "AL-AIN NNP B-NP B-LOC\r\n",
            ", , O O\r\n"
          ],
          "name": "stdout"
        }
      ]
    },
    {
      "cell_type": "code",
      "metadata": {
        "id": "RnGBCrANWACB",
        "colab_type": "code",
        "colab": {
          "base_uri": "https://localhost:8080/",
          "height": 357
        },
        "outputId": "189a5bba-021c-4c1d-e6ac-327a5e9e53eb"
      },
      "source": [
        "!head -20 dataset/valid.txt"
      ],
      "execution_count": 41,
      "outputs": [
        {
          "output_type": "stream",
          "text": [
            "-DOCSTART- -X- -X- O\r\n",
            "\r\n",
            "CRICKET NNP B-NP O\r\n",
            "- : O O\r\n",
            "LEICESTERSHIRE NNP B-NP B-ORG\r\n",
            "TAKE NNP I-NP O\r\n",
            "OVER IN B-PP O\r\n",
            "AT NNP B-NP O\r\n",
            "TOP NNP I-NP O\r\n",
            "AFTER NNP I-NP O\r\n",
            "INNINGS NNP I-NP O\r\n",
            "VICTORY NN I-NP O\r\n",
            ". . O O\r\n",
            "\r\n",
            "LONDON NNP B-NP B-LOC\r\n",
            "1996-08-30 CD I-NP O\r\n",
            "\r\n",
            "West NNP B-NP B-MISC\r\n",
            "Indian NNP I-NP I-MISC\r\n",
            "all-rounder NN I-NP O\r\n"
          ],
          "name": "stdout"
        }
      ]
    },
    {
      "cell_type": "code",
      "metadata": {
        "id": "ekSGn1gKWIoV",
        "colab_type": "code",
        "colab": {
          "base_uri": "https://localhost:8080/",
          "height": 34
        },
        "outputId": "158d71b4-f3a4-4c86-95e3-58eafe5042ea"
      },
      "source": [
        "train_data"
      ],
      "execution_count": 65,
      "outputs": [
        {
          "output_type": "execute_result",
          "data": {
            "text/plain": [
              "<_io.TextIOWrapper name='./dataset/train.txt' mode='r' encoding='UTF-8'>"
            ]
          },
          "metadata": {
            "tags": []
          },
          "execution_count": 65
        }
      ]
    },
    {
      "cell_type": "code",
      "metadata": {
        "id": "jUVhTDgnWehq",
        "colab_type": "code",
        "colab": {}
      },
      "source": [
        "for line in train_data.readlines():\n",
        "  #print(\"he\")\n",
        "  line.upper()\n",
        "  "
      ],
      "execution_count": 0,
      "outputs": []
    },
    {
      "cell_type": "code",
      "metadata": {
        "id": "O9RUEJLld9U5",
        "colab_type": "code",
        "colab": {}
      },
      "source": [
        "for line in train_data.readlines():\n",
        "  print(line)\n"
      ],
      "execution_count": 0,
      "outputs": []
    },
    {
      "cell_type": "code",
      "metadata": {
        "id": "hI34wYUQiJr7",
        "colab_type": "code",
        "colab": {}
      },
      "source": [
        ""
      ],
      "execution_count": 0,
      "outputs": []
    }
  ]
}